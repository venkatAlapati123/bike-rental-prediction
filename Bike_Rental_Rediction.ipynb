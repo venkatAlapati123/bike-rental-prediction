{
  "nbformat": 4,
  "nbformat_minor": 0,
  "metadata": {
    "colab": {
      "name": "Bike Rental Rediction.ipynb",
      "provenance": [],
      "collapsed_sections": []
    },
    "kernelspec": {
      "name": "python3",
      "display_name": "Python 3"
    }
  },
  "cells": [
    {
      "cell_type": "code",
      "metadata": {
        "id": "2ASjbLGbOnSy"
      },
      "source": [
        "import numpy as np \r\n",
        "import pandas as pd\r\n",
        "import matplotlib.pyplot as plt\r\n",
        "import seaborn as sns\r\n",
        "from sklearn.model_selection import train_test_split\r\n",
        "import warnings\r\n",
        "warnings.filterwarnings('ignore')\r\n",
        "import os"
      ],
      "execution_count": null,
      "outputs": []
    },
    {
      "cell_type": "code",
      "metadata": {
        "id": "-UsbbOUgOq18"
      },
      "source": [
        "import glob\r\n",
        "\r\n",
        "# Importing drive method from colab for accessing google drive\r\n",
        "from google.colab import drive"
      ],
      "execution_count": null,
      "outputs": []
    },
    {
      "cell_type": "code",
      "metadata": {
        "colab": {
          "resources": {
            "http://localhost:8080/nbextensions/google.colab/files.js": {
              "data": "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",
              "ok": true,
              "headers": [
                [
                  "content-type",
                  "application/javascript"
                ]
              ],
              "status": 200,
              "status_text": ""
            }
          },
          "base_uri": "https://localhost:8080/",
          "height": 73
        },
        "id": "t8_-ysmcPrax",
        "outputId": "54e32079-c3bd-478d-88c3-dbfc86f7307f"
      },
      "source": [
        "from google.colab import files \r\n",
        "  \r\n",
        "  \r\n",
        "uploaded = files.upload()\r\n"
      ],
      "execution_count": null,
      "outputs": [
        {
          "output_type": "display_data",
          "data": {
            "text/html": [
              "\n",
              "     <input type=\"file\" id=\"files-c02ba1a2-00b6-4230-a377-2d6eb2b82f74\" name=\"files[]\" multiple disabled\n",
              "        style=\"border:none\" />\n",
              "     <output id=\"result-c02ba1a2-00b6-4230-a377-2d6eb2b82f74\">\n",
              "      Upload widget is only available when the cell has been executed in the\n",
              "      current browser session. Please rerun this cell to enable.\n",
              "      </output>\n",
              "      <script src=\"/nbextensions/google.colab/files.js\"></script> "
            ],
            "text/plain": [
              "<IPython.core.display.HTML object>"
            ]
          },
          "metadata": {
            "tags": []
          }
        },
        {
          "output_type": "stream",
          "text": [
            "Saving day.csv to day.csv\n"
          ],
          "name": "stdout"
        }
      ]
    },
    {
      "cell_type": "code",
      "metadata": {
        "id": "CH8MskTtQNNV"
      },
      "source": [
        "import pandas as pd \r\n",
        "import io "
      ],
      "execution_count": null,
      "outputs": []
    },
    {
      "cell_type": "code",
      "metadata": {
        "id": "537c94cSQX2-"
      },
      "source": [
        "bike_df=pd.read_csv(io.BytesIO(uploaded['day.csv'])) "
      ],
      "execution_count": null,
      "outputs": []
    },
    {
      "cell_type": "code",
      "metadata": {
        "colab": {
          "base_uri": "https://localhost:8080/"
        },
        "id": "mJQ55Hm-QkiM",
        "outputId": "03295003-c5c3-491a-bbb1-4b3a3473fda6"
      },
      "source": [
        "bike_df.shape\r\n"
      ],
      "execution_count": null,
      "outputs": [
        {
          "output_type": "execute_result",
          "data": {
            "text/plain": [
              "(731, 16)"
            ]
          },
          "metadata": {
            "tags": []
          },
          "execution_count": 12
        }
      ]
    },
    {
      "cell_type": "code",
      "metadata": {
        "id": "1qmpEiEqRHwv"
      },
      "source": [
        "bike_df.rename(columns={'instant':'rec_id','dteday':'datetime','yr':'year','mnth':'month','weathersit':'weather_condition',\r\n",
        "                       'hum':'humidity','cnt':'total_count'},inplace=True)"
      ],
      "execution_count": null,
      "outputs": []
    },
    {
      "cell_type": "code",
      "metadata": {
        "id": "eXSycho-RLZr"
      },
      "source": [
        "bike_df['datetime']=pd.to_datetime(bike_df.datetime)\r\n",
        "\r\n",
        "bike_df['season']=bike_df.season.astype('category')\r\n",
        "bike_df['year']=bike_df.year.astype('category')\r\n",
        "bike_df['month']=bike_df.month.astype('category')\r\n",
        "bike_df['holiday']=bike_df.holiday.astype('category')\r\n",
        "bike_df['weekday']=bike_df.weekday.astype('category')\r\n",
        "bike_df['workingday']=bike_df.workingday.astype('category')\r\n",
        "bike_df['weather_condition']=bike_df.weather_condition.astype('category')"
      ],
      "execution_count": null,
      "outputs": []
    },
    {
      "cell_type": "code",
      "metadata": {
        "colab": {
          "base_uri": "https://localhost:8080/",
          "height": 1000
        },
        "id": "CsJilVUhROtt",
        "outputId": "07b6d0c2-ab2f-49f9-efaf-a49cb3e88a26"
      },
      "source": [
        "fig,ax=plt.subplots(figsize=(15,8))\r\n",
        "sns.set_style('white')\r\n",
        "#Bar plot for seasonwise monthly distribution of counts\r\n",
        "sns.barplot(x='month',y='total_count',data=bike_df[['month','total_count','season']],hue='season',ax=ax)\r\n",
        "ax.set_title('Seasonwise monthly distribution of counts')\r\n",
        "plt.show()\r\n",
        "#Bar plot for weekday wise monthly distribution of counts\r\n",
        "fig,ax1=plt.subplots(figsize=(15,8))\r\n",
        "sns.barplot(x='month',y='total_count',data=bike_df[['month','total_count','weekday']],hue='weekday',ax=ax1)\r\n",
        "ax1.set_title('Weekday wise monthly distribution of counts')\r\n",
        "plt.show()"
      ],
      "execution_count": null,
      "outputs": [
        {
          "output_type": "display_data",
          "data": {
            "image/png": "[encoded data removed]",
            "text/plain": [
              "<Figure size 1080x576 with 1 Axes>"
            ]
          },
          "metadata": {
            "tags": [],
            "needs_background": "light"
          }
        },
        {
          "output_type": "display_data",
          "data": {
            "image/png": "[encoded data removed]",
            "text/plain": [
              "<Figure size 1080x576 with 1 Axes>"
            ]
          },
          "metadata": {
            "tags": []
          }
        }
      ]
    },
    {
      "cell_type": "code",
      "metadata": {
        "id": "oT2lI97oRVKk"
      },
      "source": [
        "from fancyimpute import KNN\r\n",
        "\r\n",
        "#create dataframe for outliers\r\n",
        "wind_hum=pd.DataFrame(bike_df,columns=['windspeed','humidity'])\r\n",
        " #Cnames for outliers                     \r\n",
        "cnames=['windspeed','humidity']       \r\n",
        "                      \r\n",
        "for i in cnames:\r\n",
        "    q75,q25=np.percentile(wind_hum.loc[:,i],[75,25]) # Divide data into 75%quantile and 25%quantile.\r\n",
        "    iqr=q75-q25 #Inter quantile range\r\n",
        "    min=q25-(iqr*1.5) #inner fence\r\n",
        "    max=q75+(iqr*1.5) #outer fence\r\n",
        "    wind_hum.loc[wind_hum.loc[:,i]<min,:i]=np.nan  #Replace with NA\r\n",
        "    wind_hum.loc[wind_hum.loc[:,i]>max,:i]=np.nan  #Replace with NA\r\n",
        "#Imputating the outliers by mean Imputation\r\n",
        "wind_hum['windspeed']=wind_hum['windspeed'].fillna(wind_hum['windspeed'].mean())\r\n",
        "wind_hum['humidity']=wind_hum['humidity'].fillna(wind_hum['humidity'].mean())"
      ],
      "execution_count": null,
      "outputs": []
    },
    {
      "cell_type": "code",
      "metadata": {
        "colab": {
          "base_uri": "https://localhost:8080/",
          "height": 195
        },
        "id": "xQJjGsP2RblX",
        "outputId": "0c44e54c-3b45-4dcc-d647-1fa81d906a9d"
      },
      "source": [
        "bike_df['windspeed']=bike_df['windspeed'].replace(wind_hum['windspeed'])\r\n",
        "#Replacing the imputated humidity\r\n",
        "bike_df['humidity']=bike_df['humidity'].replace(wind_hum['humidity'])\r\n",
        "bike_df.head(5)"
      ],
      "execution_count": null,
      "outputs": [
        {
          "output_type": "execute_result",
          "data": {
            "text/html": [
              "<div>\n",
              "<style scoped>\n",
              "    .dataframe tbody tr th:only-of-type {\n",
              "        vertical-align: middle;\n",
              "    }\n",
              "\n",
              "    .dataframe tbody tr th {\n",
              "        vertical-align: top;\n",
              "    }\n",
              "\n",
              "    .dataframe thead th {\n",
              "        text-align: right;\n",
              "    }\n",
              "</style>\n",
              "<table border=\"1\" class=\"dataframe\">\n",
              "  <thead>\n",
              "    <tr style=\"text-align: right;\">\n",
              "      <th></th>\n",
              "      <th>rec_id</th>\n",
              "      <th>datetime</th>\n",
              "      <th>season</th>\n",
              "      <th>year</th>\n",
              "      <th>month</th>\n",
              "      <th>holiday</th>\n",
              "      <th>weekday</th>\n",
              "      <th>workingday</th>\n",
              "      <th>weather_condition</th>\n",
              "      <th>temp</th>\n",
              "      <th>atemp</th>\n",
              "      <th>humidity</th>\n",
              "      <th>windspeed</th>\n",
              "      <th>casual</th>\n",
              "      <th>registered</th>\n",
              "      <th>total_count</th>\n",
              "    </tr>\n",
              "  </thead>\n",
              "  <tbody>\n",
              "    <tr>\n",
              "      <th>0</th>\n",
              "      <td>1</td>\n",
              "      <td>2011-01-01</td>\n",
              "      <td>1</td>\n",
              "      <td>0</td>\n",
              "      <td>1</td>\n",
              "      <td>0</td>\n",
              "      <td>6</td>\n",
              "      <td>0</td>\n",
              "      <td>2</td>\n",
              "      <td>0.344167</td>\n",
              "      <td>0.363625</td>\n",
              "      <td>0.805833</td>\n",
              "      <td>0.160446</td>\n",
              "      <td>331</td>\n",
              "      <td>654</td>\n",
              "      <td>985</td>\n",
              "    </tr>\n",
              "    <tr>\n",
              "      <th>1</th>\n",
              "      <td>2</td>\n",
              "      <td>2011-01-02</td>\n",
              "      <td>1</td>\n",
              "      <td>0</td>\n",
              "      <td>1</td>\n",
              "      <td>0</td>\n",
              "      <td>0</td>\n",
              "      <td>0</td>\n",
              "      <td>2</td>\n",
              "      <td>0.363478</td>\n",
              "      <td>0.353739</td>\n",
              "      <td>0.696087</td>\n",
              "      <td>0.248539</td>\n",
              "      <td>131</td>\n",
              "      <td>670</td>\n",
              "      <td>801</td>\n",
              "    </tr>\n",
              "    <tr>\n",
              "      <th>2</th>\n",
              "      <td>3</td>\n",
              "      <td>2011-01-03</td>\n",
              "      <td>1</td>\n",
              "      <td>0</td>\n",
              "      <td>1</td>\n",
              "      <td>0</td>\n",
              "      <td>1</td>\n",
              "      <td>1</td>\n",
              "      <td>1</td>\n",
              "      <td>0.196364</td>\n",
              "      <td>0.189405</td>\n",
              "      <td>0.437273</td>\n",
              "      <td>0.248309</td>\n",
              "      <td>120</td>\n",
              "      <td>1229</td>\n",
              "      <td>1349</td>\n",
              "    </tr>\n",
              "    <tr>\n",
              "      <th>3</th>\n",
              "      <td>4</td>\n",
              "      <td>2011-01-04</td>\n",
              "      <td>1</td>\n",
              "      <td>0</td>\n",
              "      <td>1</td>\n",
              "      <td>0</td>\n",
              "      <td>2</td>\n",
              "      <td>1</td>\n",
              "      <td>1</td>\n",
              "      <td>0.200000</td>\n",
              "      <td>0.212122</td>\n",
              "      <td>0.590435</td>\n",
              "      <td>0.160296</td>\n",
              "      <td>108</td>\n",
              "      <td>1454</td>\n",
              "      <td>1562</td>\n",
              "    </tr>\n",
              "    <tr>\n",
              "      <th>4</th>\n",
              "      <td>5</td>\n",
              "      <td>2011-01-05</td>\n",
              "      <td>1</td>\n",
              "      <td>0</td>\n",
              "      <td>1</td>\n",
              "      <td>0</td>\n",
              "      <td>3</td>\n",
              "      <td>1</td>\n",
              "      <td>1</td>\n",
              "      <td>0.226957</td>\n",
              "      <td>0.229270</td>\n",
              "      <td>0.436957</td>\n",
              "      <td>0.186900</td>\n",
              "      <td>82</td>\n",
              "      <td>1518</td>\n",
              "      <td>1600</td>\n",
              "    </tr>\n",
              "  </tbody>\n",
              "</table>\n",
              "</div>"
            ],
            "text/plain": [
              "   rec_id   datetime season year  ... windspeed casual registered total_count\n",
              "0       1 2011-01-01      1    0  ...  0.160446    331        654         985\n",
              "1       2 2011-01-02      1    0  ...  0.248539    131        670         801\n",
              "2       3 2011-01-03      1    0  ...  0.248309    120       1229        1349\n",
              "3       4 2011-01-04      1    0  ...  0.160296    108       1454        1562\n",
              "4       5 2011-01-05      1    0  ...  0.186900     82       1518        1600\n",
              "\n",
              "[5 rows x 16 columns]"
            ]
          },
          "metadata": {
            "tags": []
          },
          "execution_count": 17
        }
      ]
    },
    {
      "cell_type": "code",
      "metadata": {
        "colab": {
          "base_uri": "https://localhost:8080/",
          "height": 513
        },
        "id": "NgTPgy0kRhoQ",
        "outputId": "f03c3e3a-f85e-4812-88c1-5c20270aa8ee"
      },
      "source": [
        "import scipy\r\n",
        "from scipy import stats\r\n",
        "#Normal plot\r\n",
        "fig=plt.figure(figsize=(15,8))\r\n",
        "stats.probplot(bike_df.total_count.tolist(),dist='norm',plot=plt)\r\n",
        "plt.show()"
      ],
      "execution_count": null,
      "outputs": [
        {
          "output_type": "display_data",
          "data": {
            "image/png": "[encoded data removed]",
            "text/plain": [
              "<Figure size 1080x576 with 1 Axes>"
            ]
          },
          "metadata": {
            "tags": []
          }
        }
      ]
    },
    {
      "cell_type": "code",
      "metadata": {
        "colab": {
          "base_uri": "https://localhost:8080/",
          "height": 503
        },
        "id": "Bzoif6WwR6fJ",
        "outputId": "ee3fb5df-595d-4595-9fde-1c94d670cdcb"
      },
      "source": [
        "correMtr=bike_df[[\"temp\",\"atemp\",\"humidity\",\"windspeed\",\"casual\",\"registered\",\"total_count\"]].corr()\r\n",
        "mask=np.array(correMtr)\r\n",
        "mask[np.tril_indices_from(mask)]=False\r\n",
        "#Heat map for correlation matrix of attributes\r\n",
        "fig,ax=plt.subplots(figsize=(15,8))\r\n",
        "sns.heatmap(correMtr,mask=mask,vmax=0.8,square=True,annot=True,ax=ax)\r\n",
        "ax.set_title('Correlation matrix of attributes')\r\n",
        "plt.show()"
      ],
      "execution_count": null,
      "outputs": [
        {
          "output_type": "display_data",
          "data": {
            "image/png": "[encoded data removed]",
            "text/plain": [
              "<Figure size 1080x576 with 2 Axes>"
            ]
          },
          "metadata": {
            "tags": []
          }
        }
      ]
    },
    {
      "cell_type": "code",
      "metadata": {
        "id": "HQRJ8MZH7bZl"
      },
      "source": [
        "from sklearn import preprocessing,metrics,linear_model\r\n",
        "from sklearn.model_selection import cross_val_score,cross_val_predict,train_test_split"
      ],
      "execution_count": null,
      "outputs": []
    },
    {
      "cell_type": "code",
      "metadata": {
        "colab": {
          "base_uri": "https://localhost:8080/"
        },
        "id": "uBfAObDW7eR2",
        "outputId": "451bc167-09db-4782-94ec-1856b67c9446"
      },
      "source": [
        "from sklearn.model_selection import train_test_split\r\n",
        "X_train,X_test,y_train,y_test=train_test_split(bike_df.iloc[:,0:-3],bike_df.iloc[:,-1],test_size=0.3, random_state=42)\r\n",
        "\r\n",
        "#Reset train index values\r\n",
        "X_train.reset_index(inplace=True)\r\n",
        "y_train=y_train.reset_index()\r\n",
        "\r\n",
        "# Reset train index values\r\n",
        "X_test.reset_index(inplace=True)\r\n",
        "y_test=y_test.reset_index()\r\n",
        "\r\n",
        "print(X_train.shape,X_test.shape,y_train.shape,y_test.shape)\r\n",
        "print(y_train.head())\r\n",
        "print(y_test.head())"
      ],
      "execution_count": null,
      "outputs": [
        {
          "output_type": "stream",
          "text": [
            "(511, 14) (220, 14) (511, 2) (220, 2)\n",
            "   index  total_count\n",
            "0    223         4905\n",
            "1    684         5445\n",
            "2    685         5698\n",
            "3    163         5020\n",
            "4    394         3624\n",
            "   index  total_count\n",
            "0    703         6606\n",
            "1     33         1550\n",
            "2    300         3747\n",
            "3    456         6041\n",
            "4    633         7538\n"
          ],
          "name": "stdout"
        }
      ]
    },
    {
      "cell_type": "code",
      "metadata": {
        "id": "aTMgLrgZ7hAh"
      },
      "source": [
        "train_attributes=X_train[['season','month','year','weekday','holiday','workingday','weather_condition','humidity','temp','windspeed']]\r\n",
        "#Create a new dataset for test attributes\r\n",
        "test_attributes=X_test[['season','month','year','weekday','holiday','workingday','humidity','temp','windspeed','weather_condition']]\r\n",
        "#categorical attributes\r\n",
        "cat_attributes=['season','holiday','workingday','weather_condition','year']\r\n",
        "#numerical attributes\r\n",
        "num_attributes=['temp','windspeed','humidity','month','weekday']"
      ],
      "execution_count": null,
      "outputs": []
    },
    {
      "cell_type": "code",
      "metadata": {
        "colab": {
          "base_uri": "https://localhost:8080/",
          "height": 232
        },
        "id": "mJ_SlgYa7kHh",
        "outputId": "6801b23c-c9df-4286-c90e-ba34fe15b5b1"
      },
      "source": [
        "train_encoded_attributes=pd.get_dummies(train_attributes,columns=cat_attributes)\r\n",
        "print('Shape of transfomed dataframe::',train_encoded_attributes.shape)\r\n",
        "train_encoded_attributes.head(5)"
      ],
      "execution_count": null,
      "outputs": [
        {
          "output_type": "stream",
          "text": [
            "Shape of transfomed dataframe:: (511, 18)\n"
          ],
          "name": "stdout"
        },
        {
          "output_type": "execute_result",
          "data": {
            "text/html": [
              "<div>\n",
              "<style scoped>\n",
              "    .dataframe tbody tr th:only-of-type {\n",
              "        vertical-align: middle;\n",
              "    }\n",
              "\n",
              "    .dataframe tbody tr th {\n",
              "        vertical-align: top;\n",
              "    }\n",
              "\n",
              "    .dataframe thead th {\n",
              "        text-align: right;\n",
              "    }\n",
              "</style>\n",
              "<table border=\"1\" class=\"dataframe\">\n",
              "  <thead>\n",
              "    <tr style=\"text-align: right;\">\n",
              "      <th></th>\n",
              "      <th>month</th>\n",
              "      <th>weekday</th>\n",
              "      <th>humidity</th>\n",
              "      <th>temp</th>\n",
              "      <th>windspeed</th>\n",
              "      <th>season_1</th>\n",
              "      <th>season_2</th>\n",
              "      <th>season_3</th>\n",
              "      <th>season_4</th>\n",
              "      <th>holiday_0</th>\n",
              "      <th>holiday_1</th>\n",
              "      <th>workingday_0</th>\n",
              "      <th>workingday_1</th>\n",
              "      <th>weather_condition_1</th>\n",
              "      <th>weather_condition_2</th>\n",
              "      <th>weather_condition_3</th>\n",
              "      <th>year_0</th>\n",
              "      <th>year_1</th>\n",
              "    </tr>\n",
              "  </thead>\n",
              "  <tbody>\n",
              "    <tr>\n",
              "      <th>0</th>\n",
              "      <td>8</td>\n",
              "      <td>5</td>\n",
              "      <td>0.415000</td>\n",
              "      <td>0.708333</td>\n",
              "      <td>0.125621</td>\n",
              "      <td>0</td>\n",
              "      <td>0</td>\n",
              "      <td>1</td>\n",
              "      <td>0</td>\n",
              "      <td>1</td>\n",
              "      <td>0</td>\n",
              "      <td>0</td>\n",
              "      <td>1</td>\n",
              "      <td>1</td>\n",
              "      <td>0</td>\n",
              "      <td>0</td>\n",
              "      <td>1</td>\n",
              "      <td>0</td>\n",
              "    </tr>\n",
              "    <tr>\n",
              "      <th>1</th>\n",
              "      <td>11</td>\n",
              "      <td>4</td>\n",
              "      <td>0.620417</td>\n",
              "      <td>0.321667</td>\n",
              "      <td>0.152987</td>\n",
              "      <td>0</td>\n",
              "      <td>0</td>\n",
              "      <td>0</td>\n",
              "      <td>1</td>\n",
              "      <td>1</td>\n",
              "      <td>0</td>\n",
              "      <td>0</td>\n",
              "      <td>1</td>\n",
              "      <td>0</td>\n",
              "      <td>1</td>\n",
              "      <td>0</td>\n",
              "      <td>0</td>\n",
              "      <td>1</td>\n",
              "    </tr>\n",
              "    <tr>\n",
              "      <th>2</th>\n",
              "      <td>11</td>\n",
              "      <td>5</td>\n",
              "      <td>0.524583</td>\n",
              "      <td>0.345000</td>\n",
              "      <td>0.171025</td>\n",
              "      <td>0</td>\n",
              "      <td>0</td>\n",
              "      <td>0</td>\n",
              "      <td>1</td>\n",
              "      <td>1</td>\n",
              "      <td>0</td>\n",
              "      <td>0</td>\n",
              "      <td>1</td>\n",
              "      <td>1</td>\n",
              "      <td>0</td>\n",
              "      <td>0</td>\n",
              "      <td>0</td>\n",
              "      <td>1</td>\n",
              "    </tr>\n",
              "    <tr>\n",
              "      <th>3</th>\n",
              "      <td>6</td>\n",
              "      <td>1</td>\n",
              "      <td>0.494583</td>\n",
              "      <td>0.635000</td>\n",
              "      <td>0.305350</td>\n",
              "      <td>0</td>\n",
              "      <td>1</td>\n",
              "      <td>0</td>\n",
              "      <td>0</td>\n",
              "      <td>1</td>\n",
              "      <td>0</td>\n",
              "      <td>0</td>\n",
              "      <td>1</td>\n",
              "      <td>1</td>\n",
              "      <td>0</td>\n",
              "      <td>0</td>\n",
              "      <td>1</td>\n",
              "      <td>0</td>\n",
              "    </tr>\n",
              "    <tr>\n",
              "      <th>4</th>\n",
              "      <td>1</td>\n",
              "      <td>1</td>\n",
              "      <td>0.400833</td>\n",
              "      <td>0.269167</td>\n",
              "      <td>0.215792</td>\n",
              "      <td>1</td>\n",
              "      <td>0</td>\n",
              "      <td>0</td>\n",
              "      <td>0</td>\n",
              "      <td>1</td>\n",
              "      <td>0</td>\n",
              "      <td>0</td>\n",
              "      <td>1</td>\n",
              "      <td>1</td>\n",
              "      <td>0</td>\n",
              "      <td>0</td>\n",
              "      <td>0</td>\n",
              "      <td>1</td>\n",
              "    </tr>\n",
              "  </tbody>\n",
              "</table>\n",
              "</div>"
            ],
            "text/plain": [
              "  month weekday  humidity  ...  weather_condition_3  year_0  year_1\n",
              "0     8       5  0.415000  ...                    0       1       0\n",
              "1    11       4  0.620417  ...                    0       0       1\n",
              "2    11       5  0.524583  ...                    0       0       1\n",
              "3     6       1  0.494583  ...                    0       1       0\n",
              "4     1       1  0.400833  ...                    0       0       1\n",
              "\n",
              "[5 rows x 18 columns]"
            ]
          },
          "metadata": {
            "tags": []
          },
          "execution_count": 24
        }
      ]
    },
    {
      "cell_type": "code",
      "metadata": {
        "id": "SaP3iQx07nAW"
      },
      "source": [
        "X_train=train_encoded_attributes\r\n",
        "y_train=y_train.total_count.values"
      ],
      "execution_count": null,
      "outputs": []
    },
    {
      "cell_type": "code",
      "metadata": {
        "colab": {
          "base_uri": "https://localhost:8080/"
        },
        "id": "Qq_TnH1B7p7g",
        "outputId": "2182d2d9-5baf-4abb-85de-3d9270ca479f"
      },
      "source": [
        "lr_model=linear_model.LinearRegression()\r\n",
        "lr_model"
      ],
      "execution_count": null,
      "outputs": [
        {
          "output_type": "execute_result",
          "data": {
            "text/plain": [
              "LinearRegression(copy_X=True, fit_intercept=True, n_jobs=None, normalize=False)"
            ]
          },
          "metadata": {
            "tags": []
          },
          "execution_count": 26
        }
      ]
    },
    {
      "cell_type": "code",
      "metadata": {
        "colab": {
          "base_uri": "https://localhost:8080/"
        },
        "id": "bQcRwpfr7sVM",
        "outputId": "3abc98e1-6235-4122-92b2-819d00cb6e68"
      },
      "source": [
        "lr_model.fit(X_train,y_train)"
      ],
      "execution_count": null,
      "outputs": [
        {
          "output_type": "execute_result",
          "data": {
            "text/plain": [
              "LinearRegression(copy_X=True, fit_intercept=True, n_jobs=None, normalize=False)"
            ]
          },
          "metadata": {
            "tags": []
          },
          "execution_count": 27
        }
      ]
    },
    {
      "cell_type": "code",
      "metadata": {
        "colab": {
          "base_uri": "https://localhost:8080/"
        },
        "id": "9DgZDwfT7ubM",
        "outputId": "33e84af5-fbe9-4332-aa0d-ffc708920658"
      },
      "source": [
        "lr=lr_model.score(X_train,y_train)\r\n",
        "print('Accuracy of the model :',lr)\r\n",
        "print('Model coefficients :',lr_model.coef_)\r\n",
        "print('Model intercept value :',lr_model.intercept_)\r\n"
      ],
      "execution_count": null,
      "outputs": [
        {
          "output_type": "stream",
          "text": [
            "Accuracy of the model : 0.8165025087335218\n",
            "Model coefficients : [  -25.40093273    69.00041734 -1021.83801516  5265.83269167\n",
            " -2556.15204574  -949.34444399   229.82675107   -79.72789531\n",
            "   799.24558823   228.48467064  -228.48467064   -78.95445063\n",
            "    78.95445063   761.85445399   252.23446226 -1014.08891625\n",
            "  -989.30080604   989.30080604]\n",
            "Model intercept value : 2195.310562348839\n"
          ],
          "name": "stdout"
        }
      ]
    },
    {
      "cell_type": "code",
      "metadata": {
        "colab": {
          "base_uri": "https://localhost:8080/"
        },
        "id": "SKea62zI7wif",
        "outputId": "1ef4e7a1-32aa-4c8f-a9c5-b3b29234983a"
      },
      "source": [
        "predict=cross_val_predict(lr_model,X_train,y_train,cv=3)\r\n",
        "predict"
      ],
      "execution_count": null,
      "outputs": [
        {
          "output_type": "execute_result",
          "data": {
            "text/plain": [
              "array([ 5248.7578435 ,  5038.5615668 ,  5806.79339316,  4353.94868702,\n",
              "        3738.02165465,  6781.13199665,  6258.53686563,  3802.32154757,\n",
              "        4679.69060739,  3413.26938345,  5382.26926795,  3103.26413427,\n",
              "        4340.14502978,  5792.02135524,  4357.90482085,  6307.47067538,\n",
              "        4382.53420011,  3356.51602988,   722.55880035,   542.99629923,\n",
              "        7419.07107033,  3747.2639444 ,  5282.38323084,  5494.01243603,\n",
              "        6941.05375802,  7322.95928003,  3629.5886932 ,  3571.12912785,\n",
              "         985.45343201,  4884.05952005,  1644.73801661,  1708.88196943,\n",
              "        1689.90104258,  1295.63879625,  4891.47726849,  5507.81236621,\n",
              "        6015.17425095,  4180.63057735,  5075.38404498,  5941.56769703,\n",
              "        6400.40498745,  4215.81855312,  5962.38814912,  6052.71452714,\n",
              "        3345.73314148,  4096.72004817,  1465.44713372,  3603.17274178,\n",
              "        4587.89942466,  6650.65699064,  1719.93360965,  6128.15135134,\n",
              "        6439.33525805,  3277.84008997,  4592.0786174 ,  3194.61235   ,\n",
              "        1039.88280183,  2100.09613678,   674.30772486,  5224.66730386,\n",
              "        5314.19870803,  4911.06477305,  3739.39082172,  6130.33989227,\n",
              "        5968.45404858,  6295.95877962,  3954.66011045,  3161.72304418,\n",
              "        3512.46233642,  4003.13186901,  2093.3677567 ,  3827.30167223,\n",
              "        6815.93521048,  4135.6591103 ,  4774.56844943,  2452.30835041,\n",
              "        3534.02173852,  4559.07413217,   -80.13110702,  3780.96495495,\n",
              "        4209.2573621 ,  5018.8490244 ,  4014.31054791,  2522.05802453,\n",
              "        6379.32086471,  3758.08076547,  3963.70346595,  6857.23289985,\n",
              "        4468.69327818,  3646.68591468,  1679.07590025,  3349.16374649,\n",
              "        1413.84032115,  6584.71977541,  6228.8522581 ,  4525.24989433,\n",
              "        3621.41590824,  5024.80981436,  3158.99701117,  1894.42556815,\n",
              "        2661.69174676,  3782.07824139,  5688.56741915,  4854.81563596,\n",
              "        3433.99423773,  6034.8877613 ,  6487.83242733,  7001.6389009 ,\n",
              "        4472.20009687,  6364.06616143,  3206.63812555,  3884.45830175,\n",
              "        1964.66801377,  3320.10969996,  4768.11361833,  2609.16521029,\n",
              "        5948.87053442,  4102.45821637,  1609.40133185,  2709.63783098,\n",
              "        4492.38383371,  3433.58537988,  4832.22105954,  5668.91506398,\n",
              "        6696.47683976,  5999.3365819 ,  4876.9804128 ,  3844.07111493,\n",
              "        7119.74773459,  4288.23361221,  6092.17812689,  4495.4422446 ,\n",
              "        3748.14881943,  6235.51941401,  6940.0886107 ,  5138.70260425,\n",
              "        4072.15746453,  5393.17403548,  4055.88151468,  2901.38279759,\n",
              "        7090.36866639,  3530.06748949,  3437.89836177,  5357.35803769,\n",
              "        3737.56116112,  4343.07354639,  4130.62547043,  2784.12775673,\n",
              "        1262.95634462,  4957.2337275 ,  7131.81091712,  4025.9618221 ,\n",
              "        6272.927947  ,  1121.76529347,  3894.19289799,  1412.23346792,\n",
              "       -1080.60059589,  7343.9965627 ,  4420.96119647,  1043.93191501,\n",
              "        7122.93902903,  4693.44706057,  3743.25298687,  5276.11451025,\n",
              "        4774.84841795,  5149.25360319,  4435.40472163,  6435.05522501,\n",
              "        3083.62731793,  4516.24346931,  3545.50138165,  4877.22875094,\n",
              "        4258.66689769,  1153.91971821,  6186.03769679,  1757.69975291,\n",
              "        6101.96704411,  5097.54048061,  4817.16807671,   822.74025349,\n",
              "        5923.54774155,  3669.98628533,  4408.10039681,  3073.61825193,\n",
              "        1373.94740226,  4593.20011568,  5356.3154055 ,  5317.79523838,\n",
              "        4323.42818435,  2818.94372265,  4989.8189471 ,  1134.86886087,\n",
              "        3244.0992691 ,  7547.16258195,  5445.92780291,  6858.42732376,\n",
              "        6533.96802008,  5826.08009284,  1831.46589177,  5376.03129393,\n",
              "        1761.06296062,  6537.26236634,  7571.17110195,  4012.85703479,\n",
              "         303.57125752,  2992.99925533,  5301.66896575,  4940.60509917,\n",
              "        1478.31443559,  6960.30576601,  6759.13861314,  3823.20271816,\n",
              "        5178.09460324,  4289.11838946,  4064.7782468 ,  4410.45636163,\n",
              "        6017.67168343,  3407.21975983,  1559.08667193,  7120.48376218,\n",
              "        3610.84591656,  5006.26782421,  1536.79783396,  1986.74861173,\n",
              "        4680.35788079,  1854.00108678,  5162.39594079,  4898.94493463,\n",
              "        4859.94703625,  3903.15656291,  4326.81673116,  3748.98138642,\n",
              "        4704.73461379,  6390.80692179,  4170.57158517,  6915.73396799,\n",
              "        4722.31478286,  6620.3525888 ,  6102.45541467,  5188.68350633,\n",
              "        6710.28512763,  6146.90528016,  5589.95034317,  7216.57059488,\n",
              "        6176.77411055,  1128.82366247,  5781.50171278,  5116.77826384,\n",
              "        5050.07431718,  5771.4900678 ,  4617.97462346,  3519.72673024,\n",
              "        5041.25087677,  5828.04993986,  3767.67779651,  3511.98966543,\n",
              "        6627.09271149,  6133.01999038,  5364.77282422,  6908.9575722 ,\n",
              "        6505.69868321,  2883.86415736,  4304.92291325,  6900.08826651,\n",
              "        6490.86577409,  4388.43227108,  3566.04040203,  3810.88383415,\n",
              "        6861.54726462,  6666.23365523,  1499.53601346,  4402.24821332,\n",
              "        2324.53110779,  6108.24251268,  3999.79738263,  1927.73284242,\n",
              "        4872.49769432,  3232.20810783,  5251.49535236,  5328.0949106 ,\n",
              "        6587.38701179,  6439.21589299,  6740.2902446 ,  5886.67815986,\n",
              "         517.63955345,  6500.55364893,  5823.71591531,  6782.96748593,\n",
              "        1557.64197371,  6119.18192394,  4531.45591893,  4105.64877904,\n",
              "        3827.04811127,  7739.62283782,  7083.78701349,  5819.70975161,\n",
              "        3333.36739867,  4457.94790494,  2866.21319974,  5642.96505651,\n",
              "        7124.18610817,  6677.39588095,  6056.09585253,  4636.84656389,\n",
              "        5037.66947797,  7085.27128711,  4939.37718174,  7208.65033799,\n",
              "        3545.96391162,  6089.94318947,  2402.51030935,  4790.34938432,\n",
              "        2879.44722109,  6553.5252112 ,  4280.59350481,  4773.33102707,\n",
              "        4292.82800881,  5056.63127051,  4323.33816564,  2794.4456495 ,\n",
              "        3813.7623656 ,  3748.33578471,  5712.11132944,  5477.97134308,\n",
              "        4140.8407895 ,  3240.88641435,  5674.69098961,  4617.66211334,\n",
              "        4340.93753776,  6472.01503942,  4298.30127383,  4942.22929694,\n",
              "        5754.15173531,  6437.91791835,  5054.19085183,  5719.90902567,\n",
              "        2158.20100014,  5286.51702319,  6966.77404895,  4435.42060999,\n",
              "        4341.73662672,  6513.18084875,  3050.70086048,  4062.91529074,\n",
              "        7143.08533508,  3061.66867472,  4478.01843698,  6791.92099791,\n",
              "        4263.43891307,  4371.98107738,  5933.16891231,  1215.80360279,\n",
              "        3265.22580108,  4463.75741442,  3913.79869183,  3395.47829666,\n",
              "        4179.80992118,  5058.24444519,  5633.47619833,  6545.81419463,\n",
              "        3351.7068003 ,  6131.09366253,  5244.74356598,  5285.66363014,\n",
              "        6566.55916089,  6265.49428606,  5655.61729096,  6370.87129097,\n",
              "        6711.08901528,  1888.53835934,  4876.50847676,  5599.14849217,\n",
              "        7214.60503848,  1024.85735516,  6868.92408246,  4085.73054489,\n",
              "        5336.82243818,  5715.50570511,  6121.91638786,  3381.20922084,\n",
              "        7695.80267476,  4398.67120485,  7301.71145973,  5905.85542579,\n",
              "        8037.54886575,  5190.08097121,  5201.23939842,  4230.21592216,\n",
              "        4117.82621548,  5774.07592695,  4281.02306168,  1849.45596244,\n",
              "        6311.73035284,  6471.75727899,  7382.52607618,  2662.4737848 ,\n",
              "        7556.28472177,  1492.28198656,  6603.55072381,  2929.64282586,\n",
              "         938.35715385,  5335.28780321,  3295.93691267,  1212.26415789,\n",
              "        7173.65769081,  4461.21963646,  6841.187504  ,  3609.05873209,\n",
              "        4107.26721991,  5027.91546911,  3860.65055641,  6828.38084877,\n",
              "        6114.31662036,  3832.71329887,  1480.48398073,  5890.41340454,\n",
              "        4103.00499084,  4799.36472638,  6194.90831641,   710.55706204,\n",
              "        1553.90066044,  5067.84681288,  1339.68323094,  5357.90046816,\n",
              "        2817.76591603,  5257.87066479,  5051.69243763,  1282.40828953,\n",
              "        3246.41395539,  3817.33185011,  4075.23249831,  5581.11155374,\n",
              "        4918.0565597 ,  3141.24863065,  4761.23643406,  4942.38270243,\n",
              "        5492.43069947,  6114.74910963,  3774.98929238,  6173.98938952,\n",
              "        1291.46608007,  7350.45442196,  4011.7777884 ,  1247.35782042,\n",
              "        5751.30195648,  6523.10466494,  3535.63378723,  5007.90673022,\n",
              "        1459.45397238,  6281.44892169,  4340.24646704,  5180.19165578,\n",
              "        2859.77044893,  2575.80036862,  2001.41607957,  7497.87693829,\n",
              "        3151.32866481,  4616.32815171,  1714.97100575,  3881.29872571,\n",
              "        7087.98187336,  2752.4329846 ,  3287.13911891,  4253.31442935,\n",
              "        2384.10589072,  4449.12619072,  5543.76992588,  5557.61261189,\n",
              "        7160.2764672 ,  4721.84876308,  5969.9014017 ,  6977.37088843,\n",
              "        5735.38885138,  5209.52933177,  6365.23705948,  5489.7151071 ,\n",
              "        7196.95336735,  1412.40247586,  6441.86936626,  6472.23149688,\n",
              "        4609.89413069,  1081.82181653,  3292.67077901,  6430.56583816,\n",
              "        5835.34066003,  4266.46139125,  4706.40721111,  2572.31636691,\n",
              "        4452.15695958,  5387.17259998,  3374.25699809,  3812.41149405,\n",
              "        6950.25630797,  4460.91130181,  6440.94565676,  2561.14219828,\n",
              "        3928.47441279,  3081.95003821,  6216.91953017,  3744.2975546 ,\n",
              "        4626.98270442,  4981.23665251,  3550.14147561,  6235.16113567,\n",
              "        1250.69667465,  5136.08475533,  1915.62995216,  3183.83829151,\n",
              "        4801.49702745,  3916.94759333,  2676.2931262 ])"
            ]
          },
          "metadata": {
            "tags": []
          },
          "execution_count": 29
        }
      ]
    },
    {
      "cell_type": "code",
      "metadata": {
        "colab": {
          "base_uri": "https://localhost:8080/",
          "height": 513
        },
        "id": "Fl5zdN0a7y75",
        "outputId": "84cb9b4c-1611-4170-e764-68633ce5a022"
      },
      "source": [
        "fig,ax=plt.subplots(figsize=(15,8))\r\n",
        "ax.scatter(y_train,y_train-predict)\r\n",
        "ax.axhline(lw=2,color='black')\r\n",
        "ax.set_title('Cross validation prediction plot')\r\n",
        "ax.set_xlabel('Observed')\r\n",
        "ax.set_ylabel('Residual')\r\n",
        "plt.show()"
      ],
      "execution_count": null,
      "outputs": [
        {
          "output_type": "display_data",
          "data": {
            "image/png": "[encoded data removed]",
            "text/plain": [
              "<Figure size 1080x576 with 1 Axes>"
            ]
          },
          "metadata": {
            "tags": []
          }
        }
      ]
    },
    {
      "cell_type": "code",
      "metadata": {
        "colab": {
          "base_uri": "https://localhost:8080/"
        },
        "id": "s2Arzmte72HK",
        "outputId": "1ebc0a30-d116-4abb-ac95-fe43ecece9f1"
      },
      "source": [
        "r2_scores = cross_val_score(lr_model, X_train, y_train, cv=3)\r\n",
        "print('R-squared scores :',np.average(r2_scores))"
      ],
      "execution_count": null,
      "outputs": [
        {
          "output_type": "stream",
          "text": [
            "R-squared scores : 0.7995611885231044\n"
          ],
          "name": "stdout"
        }
      ]
    },
    {
      "cell_type": "code",
      "metadata": {
        "id": "rZ_2ZpvV74Na"
      },
      "source": [
        "from sklearn.tree import DecisionTreeRegressor\r\n",
        "dtr=DecisionTreeRegressor(min_samples_split=2,max_leaf_nodes=10)\r\n"
      ],
      "execution_count": null,
      "outputs": []
    },
    {
      "cell_type": "code",
      "metadata": {
        "colab": {
          "base_uri": "https://localhost:8080/"
        },
        "id": "mxA8mwYR8C1G",
        "outputId": "2858c07e-4a85-465a-9475-0e26bfc1b73a"
      },
      "source": [
        "dtr.fit(X_train,y_train)"
      ],
      "execution_count": null,
      "outputs": [
        {
          "output_type": "execute_result",
          "data": {
            "text/plain": [
              "DecisionTreeRegressor(ccp_alpha=0.0, criterion='mse', max_depth=None,\n",
              "                      max_features=None, max_leaf_nodes=10,\n",
              "                      min_impurity_decrease=0.0, min_impurity_split=None,\n",
              "                      min_samples_leaf=1, min_samples_split=2,\n",
              "                      min_weight_fraction_leaf=0.0, presort='deprecated',\n",
              "                      random_state=None, splitter='best')"
            ]
          },
          "metadata": {
            "tags": []
          },
          "execution_count": 33
        }
      ]
    },
    {
      "cell_type": "code",
      "metadata": {
        "colab": {
          "base_uri": "https://localhost:8080/"
        },
        "id": "0UKIFMX08FHx",
        "outputId": "b3862d6d-2972-4ab9-a6bb-723f25673a73"
      },
      "source": [
        "dtr_score=dtr.score(X_train,y_train)\r\n",
        "print('Accuracy of model :',dtr_score)"
      ],
      "execution_count": null,
      "outputs": [
        {
          "output_type": "stream",
          "text": [
            "Accuracy of model : 0.8082151777539757\n"
          ],
          "name": "stdout"
        }
      ]
    },
    {
      "cell_type": "code",
      "metadata": {
        "id": "PkptuKig8Hye"
      },
      "source": [
        "from sklearn.ensemble import RandomForestRegressor\r\n",
        "X_train=train_encoded_attributes\r\n",
        "rf=RandomForestRegressor(n_estimators=200)"
      ],
      "execution_count": null,
      "outputs": []
    },
    {
      "cell_type": "code",
      "metadata": {
        "colab": {
          "base_uri": "https://localhost:8080/"
        },
        "id": "ArG7UjbI8Rdo",
        "outputId": "d438f8d1-e15d-4928-aa98-d68b94c10d7b"
      },
      "source": [
        "rf.fit(X_train,y_train)"
      ],
      "execution_count": null,
      "outputs": [
        {
          "output_type": "execute_result",
          "data": {
            "text/plain": [
              "RandomForestRegressor(bootstrap=True, ccp_alpha=0.0, criterion='mse',\n",
              "                      max_depth=None, max_features='auto', max_leaf_nodes=None,\n",
              "                      max_samples=None, min_impurity_decrease=0.0,\n",
              "                      min_impurity_split=None, min_samples_leaf=1,\n",
              "                      min_samples_split=2, min_weight_fraction_leaf=0.0,\n",
              "                      n_estimators=200, n_jobs=None, oob_score=False,\n",
              "                      random_state=None, verbose=0, warm_start=False)"
            ]
          },
          "metadata": {
            "tags": []
          },
          "execution_count": 36
        }
      ]
    },
    {
      "cell_type": "code",
      "metadata": {
        "colab": {
          "base_uri": "https://localhost:8080/"
        },
        "id": "O5tOHZb98TPV",
        "outputId": "8b52cb88-1110-4ab4-eb27-2744f0006b59"
      },
      "source": [
        "rf_score =rf.score(X_train,y_train)\r\n",
        "print('Accuracy of the model :',rf_score)"
      ],
      "execution_count": null,
      "outputs": [
        {
          "output_type": "stream",
          "text": [
            "Accuracy of the model : 0.9811127759960613\n"
          ],
          "name": "stdout"
        }
      ]
    },
    {
      "cell_type": "code",
      "metadata": {
        "colab": {
          "base_uri": "https://localhost:8080/",
          "height": 232
        },
        "id": "BeTCY3c68Vns",
        "outputId": "d23d5546-96eb-49e1-ab04-01e4ca6abbe2"
      },
      "source": [
        "test_encoded_attributes=pd.get_dummies(test_attributes,columns=cat_attributes)\r\n",
        "print('Shape of transformed dataframe :',test_encoded_attributes.shape)\r\n",
        "test_encoded_attributes.head(5)"
      ],
      "execution_count": null,
      "outputs": [
        {
          "output_type": "stream",
          "text": [
            "Shape of transformed dataframe : (220, 18)\n"
          ],
          "name": "stdout"
        },
        {
          "output_type": "execute_result",
          "data": {
            "text/html": [
              "<div>\n",
              "<style scoped>\n",
              "    .dataframe tbody tr th:only-of-type {\n",
              "        vertical-align: middle;\n",
              "    }\n",
              "\n",
              "    .dataframe tbody tr th {\n",
              "        vertical-align: top;\n",
              "    }\n",
              "\n",
              "    .dataframe thead th {\n",
              "        text-align: right;\n",
              "    }\n",
              "</style>\n",
              "<table border=\"1\" class=\"dataframe\">\n",
              "  <thead>\n",
              "    <tr style=\"text-align: right;\">\n",
              "      <th></th>\n",
              "      <th>month</th>\n",
              "      <th>weekday</th>\n",
              "      <th>humidity</th>\n",
              "      <th>temp</th>\n",
              "      <th>windspeed</th>\n",
              "      <th>season_1</th>\n",
              "      <th>season_2</th>\n",
              "      <th>season_3</th>\n",
              "      <th>season_4</th>\n",
              "      <th>holiday_0</th>\n",
              "      <th>holiday_1</th>\n",
              "      <th>workingday_0</th>\n",
              "      <th>workingday_1</th>\n",
              "      <th>weather_condition_1</th>\n",
              "      <th>weather_condition_2</th>\n",
              "      <th>weather_condition_3</th>\n",
              "      <th>year_0</th>\n",
              "      <th>year_1</th>\n",
              "    </tr>\n",
              "  </thead>\n",
              "  <tbody>\n",
              "    <tr>\n",
              "      <th>0</th>\n",
              "      <td>12</td>\n",
              "      <td>2</td>\n",
              "      <td>0.733750</td>\n",
              "      <td>0.475833</td>\n",
              "      <td>0.174129</td>\n",
              "      <td>0</td>\n",
              "      <td>0</td>\n",
              "      <td>0</td>\n",
              "      <td>1</td>\n",
              "      <td>1</td>\n",
              "      <td>0</td>\n",
              "      <td>0</td>\n",
              "      <td>1</td>\n",
              "      <td>1</td>\n",
              "      <td>0</td>\n",
              "      <td>0</td>\n",
              "      <td>0</td>\n",
              "      <td>1</td>\n",
              "    </tr>\n",
              "    <tr>\n",
              "      <th>1</th>\n",
              "      <td>2</td>\n",
              "      <td>4</td>\n",
              "      <td>0.437826</td>\n",
              "      <td>0.186957</td>\n",
              "      <td>0.277752</td>\n",
              "      <td>1</td>\n",
              "      <td>0</td>\n",
              "      <td>0</td>\n",
              "      <td>0</td>\n",
              "      <td>1</td>\n",
              "      <td>0</td>\n",
              "      <td>0</td>\n",
              "      <td>1</td>\n",
              "      <td>1</td>\n",
              "      <td>0</td>\n",
              "      <td>0</td>\n",
              "      <td>1</td>\n",
              "      <td>0</td>\n",
              "    </tr>\n",
              "    <tr>\n",
              "      <th>2</th>\n",
              "      <td>10</td>\n",
              "      <td>5</td>\n",
              "      <td>0.585833</td>\n",
              "      <td>0.330833</td>\n",
              "      <td>0.229479</td>\n",
              "      <td>0</td>\n",
              "      <td>0</td>\n",
              "      <td>0</td>\n",
              "      <td>1</td>\n",
              "      <td>1</td>\n",
              "      <td>0</td>\n",
              "      <td>0</td>\n",
              "      <td>1</td>\n",
              "      <td>0</td>\n",
              "      <td>1</td>\n",
              "      <td>0</td>\n",
              "      <td>1</td>\n",
              "      <td>0</td>\n",
              "    </tr>\n",
              "    <tr>\n",
              "      <th>3</th>\n",
              "      <td>4</td>\n",
              "      <td>0</td>\n",
              "      <td>0.676250</td>\n",
              "      <td>0.425833</td>\n",
              "      <td>0.172267</td>\n",
              "      <td>0</td>\n",
              "      <td>1</td>\n",
              "      <td>0</td>\n",
              "      <td>0</td>\n",
              "      <td>1</td>\n",
              "      <td>0</td>\n",
              "      <td>1</td>\n",
              "      <td>0</td>\n",
              "      <td>0</td>\n",
              "      <td>1</td>\n",
              "      <td>0</td>\n",
              "      <td>0</td>\n",
              "      <td>1</td>\n",
              "    </tr>\n",
              "    <tr>\n",
              "      <th>4</th>\n",
              "      <td>9</td>\n",
              "      <td>2</td>\n",
              "      <td>0.570000</td>\n",
              "      <td>0.550000</td>\n",
              "      <td>0.236321</td>\n",
              "      <td>0</td>\n",
              "      <td>0</td>\n",
              "      <td>0</td>\n",
              "      <td>1</td>\n",
              "      <td>1</td>\n",
              "      <td>0</td>\n",
              "      <td>0</td>\n",
              "      <td>1</td>\n",
              "      <td>1</td>\n",
              "      <td>0</td>\n",
              "      <td>0</td>\n",
              "      <td>0</td>\n",
              "      <td>1</td>\n",
              "    </tr>\n",
              "  </tbody>\n",
              "</table>\n",
              "</div>"
            ],
            "text/plain": [
              "  month weekday  humidity  ...  weather_condition_3  year_0  year_1\n",
              "0    12       2  0.733750  ...                    0       0       1\n",
              "1     2       4  0.437826  ...                    0       1       0\n",
              "2    10       5  0.585833  ...                    0       1       0\n",
              "3     4       0  0.676250  ...                    0       0       1\n",
              "4     9       2  0.570000  ...                    0       0       1\n",
              "\n",
              "[5 rows x 18 columns]"
            ]
          },
          "metadata": {
            "tags": []
          },
          "execution_count": 40
        }
      ]
    },
    {
      "cell_type": "code",
      "metadata": {
        "id": "BYEU8r6B85eg"
      },
      "source": [
        "X_test=test_encoded_attributes\r\n",
        "y_test=y_test.total_count.values"
      ],
      "execution_count": null,
      "outputs": []
    },
    {
      "cell_type": "code",
      "metadata": {
        "colab": {
          "base_uri": "https://localhost:8080/"
        },
        "id": "YVnb4zT789Bg",
        "outputId": "970a13bd-c23b-4ad0-c3a8-2b92b8717a99"
      },
      "source": [
        "X_test=test_encoded_attributes\r\n",
        "rf_pred=rf.predict(X_test)\r\n",
        "rf_pred"
      ],
      "execution_count": null,
      "outputs": [
        {
          "output_type": "execute_result",
          "data": {
            "text/plain": [
              "array([6618.665, 1548.47 , 3399.365, 4995.335, 7503.37 , 7242.805,\n",
              "       1491.215, 2211.43 , 7369.65 , 6440.515, 2081.14 , 2990.59 ,\n",
              "       4940.675, 4940.805, 2126.645, 2140.75 , 2346.915, 7842.595,\n",
              "       5087.865, 2496.38 , 7462.37 , 6029.145, 5932.13 , 1776.375,\n",
              "       1742.61 , 4737.165, 1913.165, 7251.395, 3130.255, 5712.105,\n",
              "       2966.035, 4052.605, 6530.03 , 7350.805, 6132.4  , 5315.32 ,\n",
              "       7264.34 , 6229.6  , 3220.975,  967.85 , 3831.035, 3181.905,\n",
              "       7262.725, 4480.025, 6945.185, 2174.42 , 4352.505, 5547.48 ,\n",
              "       6562.325, 4142.72 , 4189.03 , 2893.165, 2316.145, 4354.41 ,\n",
              "       4654.705, 4182.435, 3517.11 , 3834.98 , 4220.755, 6587.91 ,\n",
              "       6163.715, 6783.865, 2005.   , 7324.735, 6434.095, 6381.36 ,\n",
              "       5922.295, 4338.635, 1822.18 , 7325.17 , 3714.735, 2113.905,\n",
              "       3269.405, 4023.92 , 4325.1  , 3855.125, 4629.53 , 4466.5  ,\n",
              "       1371.99 , 4306.145, 2336.67 , 2010.215, 5043.82 , 4147.795,\n",
              "       3649.62 , 3408.555, 4220.93 , 3740.815, 3474.825, 3380.225,\n",
              "       1379.18 , 7075.105, 5649.5  , 5757.555, 2484.295, 2015.84 ,\n",
              "       4778.05 , 2785.33 , 3274.875, 4891.49 , 7530.785, 4372.92 ,\n",
              "       6652.06 , 1878.8  , 2443.695, 5213.115, 2207.3  , 3069.47 ,\n",
              "       6626.285, 1155.825, 4351.945, 6859.15 , 3663.765, 7765.7  ,\n",
              "       5826.41 , 4339.59 , 1705.685, 3041.535, 5077.015, 2379.62 ,\n",
              "       6636.515, 2608.475, 3356.795, 1489.74 , 4448.19 , 5093.075,\n",
              "       4165.42 , 3323.79 , 2222.685, 5885.6  , 3652.13 , 3920.365,\n",
              "       4882.11 , 5071.255, 4892.625, 1846.27 , 6074.495, 6522.67 ,\n",
              "       2007.1  , 4498.255, 4635.46 , 2112.355, 2134.035, 4243.505,\n",
              "       3679.08 , 4971.105, 4364.81 , 4790.265, 2701.995, 3652.155,\n",
              "       4672.405, 7280.42 , 4061.56 , 3984.095, 1543.95 , 3844.765,\n",
              "       3963.47 , 6679.885, 2822.175, 4620.85 , 6225.99 , 4001.42 ,\n",
              "       3954.705, 4958.455, 1549.755, 3848.855, 6360.805, 1835.265,\n",
              "       3584.13 , 4387.585, 6922.69 , 7304.575, 1523.14 , 3400.445,\n",
              "       3906.705, 5913.27 , 4006.965, 6290.255, 3523.28 , 1681.87 ,\n",
              "       1604.18 , 7390.325, 7093.025, 5285.45 , 6736.26 , 7998.475,\n",
              "       7653.335, 2630.405, 4590.225, 1370.69 , 7410.415, 3784.995,\n",
              "       3983.67 , 6218.495, 1945.74 , 1700.075, 3893.165, 3917.355,\n",
              "        983.92 , 5088.41 , 4520.075, 5794.87 , 5039.07 , 5119.835,\n",
              "       5063.855, 2953.735, 7356.58 , 1929.935, 6451.37 , 6428.685,\n",
              "       6832.27 , 3769.41 , 5597.82 , 2962.33 , 4950.675, 3995.44 ,\n",
              "       7226.925, 6837.92 , 3550.31 , 3916.18 ])"
            ]
          },
          "metadata": {
            "tags": []
          },
          "execution_count": 42
        }
      ]
    },
    {
      "cell_type": "code",
      "metadata": {
        "id": "nNZv_-Na9DMu"
      },
      "source": [
        "from math import *\r\n",
        "import math"
      ],
      "execution_count": null,
      "outputs": []
    },
    {
      "cell_type": "code",
      "metadata": {
        "id": "ONZJMzKP9pWe"
      },
      "source": [
        ""
      ],
      "execution_count": null,
      "outputs": []
    },
    {
      "cell_type": "code",
      "metadata": {
        "colab": {
          "base_uri": "https://localhost:8080/"
        },
        "id": "ncczWYCh9a5B",
        "outputId": "af0e43fc-c909-404c-8120-46ab61deac6e"
      },
      "source": [
        "rmse = math.sqrt(metrics.mean_squared_error(y_test,rf_pred))\r\n",
        "print('Root mean square error :',rmse)\r\n",
        "#Mean absolute error\r\n",
        "mae=metrics.mean_absolute_error(y_test,rf_pred)\r\n",
        "print('Mean absolute error :',mae)"
      ],
      "execution_count": null,
      "outputs": [
        {
          "output_type": "stream",
          "text": [
            "Root mean square error : 638.3595565855428\n",
            "Mean absolute error : 425.1865454545454\n"
          ],
          "name": "stdout"
        }
      ]
    },
    {
      "cell_type": "code",
      "metadata": {
        "id": "BxuIpVkK9sQs"
      },
      "source": [
        ""
      ],
      "execution_count": null,
      "outputs": []
    },
    {
      "cell_type": "code",
      "metadata": {
        "id": "bkdnOp-S9eep"
      },
      "source": [
        ""
      ],
      "execution_count": null,
      "outputs": []
    },
    {
      "cell_type": "code",
      "metadata": {
        "colab": {
          "base_uri": "https://localhost:8080/",
          "height": 513
        },
        "id": "aoPd3PGD9JZu",
        "outputId": "73133a38-e5dc-4ceb-8f32-5c2f0e176b4a"
      },
      "source": [
        "fig, ax = plt.subplots(figsize=(15,8))\r\n",
        "residuals=y_test-rf_pred\r\n",
        "ax.scatter(y_test, residuals)\r\n",
        "ax.axhline(lw=2,color='black')\r\n",
        "ax.set_xlabel('Observed')\r\n",
        "ax.set_ylabel('Residuals')\r\n",
        "ax.set_title('Residual plot')\r\n",
        "plt.show()"
      ],
      "execution_count": null,
      "outputs": [
        {
          "output_type": "display_data",
          "data": {
            "image/png": "[encoded data removed]",
            "text/plain": [
              "<Figure size 1080x576 with 1 Axes>"
            ]
          },
          "metadata": {
            "tags": []
          }
        }
      ]
    },
    {
      "cell_type": "code",
      "metadata": {
        "colab": {
          "base_uri": "https://localhost:8080/",
          "height": 402
        },
        "id": "RkK2W-Kt9xMV",
        "outputId": "841644d3-c619-4d9e-d4c2-7b5c19b44fc2"
      },
      "source": [
        "Bike_df1=pd.DataFrame(y_test,columns=['y_test'])\r\n",
        "Bike_df2=pd.DataFrame(rf_pred,columns=['rf_pred'])\r\n",
        "Bike_predictions=pd.merge(Bike_df1,Bike_df2,left_index=True,right_index=True)\r\n",
        "Bike_predictions.to_csv('Bike_Renting_Python.csv')\r\n",
        "Bike_predictions"
      ],
      "execution_count": null,
      "outputs": [
        {
          "output_type": "execute_result",
          "data": {
            "text/html": [
              "<div>\n",
              "<style scoped>\n",
              "    .dataframe tbody tr th:only-of-type {\n",
              "        vertical-align: middle;\n",
              "    }\n",
              "\n",
              "    .dataframe tbody tr th {\n",
              "        vertical-align: top;\n",
              "    }\n",
              "\n",
              "    .dataframe thead th {\n",
              "        text-align: right;\n",
              "    }\n",
              "</style>\n",
              "<table border=\"1\" class=\"dataframe\">\n",
              "  <thead>\n",
              "    <tr style=\"text-align: right;\">\n",
              "      <th></th>\n",
              "      <th>y_test</th>\n",
              "      <th>rf_pred</th>\n",
              "    </tr>\n",
              "  </thead>\n",
              "  <tbody>\n",
              "    <tr>\n",
              "      <th>0</th>\n",
              "      <td>6606</td>\n",
              "      <td>6618.665</td>\n",
              "    </tr>\n",
              "    <tr>\n",
              "      <th>1</th>\n",
              "      <td>1550</td>\n",
              "      <td>1548.470</td>\n",
              "    </tr>\n",
              "    <tr>\n",
              "      <th>2</th>\n",
              "      <td>3747</td>\n",
              "      <td>3399.365</td>\n",
              "    </tr>\n",
              "    <tr>\n",
              "      <th>3</th>\n",
              "      <td>6041</td>\n",
              "      <td>4995.335</td>\n",
              "    </tr>\n",
              "    <tr>\n",
              "      <th>4</th>\n",
              "      <td>7538</td>\n",
              "      <td>7503.370</td>\n",
              "    </tr>\n",
              "    <tr>\n",
              "      <th>...</th>\n",
              "      <td>...</td>\n",
              "      <td>...</td>\n",
              "    </tr>\n",
              "    <tr>\n",
              "      <th>215</th>\n",
              "      <td>2659</td>\n",
              "      <td>3995.440</td>\n",
              "    </tr>\n",
              "    <tr>\n",
              "      <th>216</th>\n",
              "      <td>7338</td>\n",
              "      <td>7226.925</td>\n",
              "    </tr>\n",
              "    <tr>\n",
              "      <th>217</th>\n",
              "      <td>6978</td>\n",
              "      <td>6837.920</td>\n",
              "    </tr>\n",
              "    <tr>\n",
              "      <th>218</th>\n",
              "      <td>4795</td>\n",
              "      <td>3550.310</td>\n",
              "    </tr>\n",
              "    <tr>\n",
              "      <th>219</th>\n",
              "      <td>3855</td>\n",
              "      <td>3916.180</td>\n",
              "    </tr>\n",
              "  </tbody>\n",
              "</table>\n",
              "<p>220 rows × 2 columns</p>\n",
              "</div>"
            ],
            "text/plain": [
              "     y_test   rf_pred\n",
              "0      6606  6618.665\n",
              "1      1550  1548.470\n",
              "2      3747  3399.365\n",
              "3      6041  4995.335\n",
              "4      7538  7503.370\n",
              "..      ...       ...\n",
              "215    2659  3995.440\n",
              "216    7338  7226.925\n",
              "217    6978  6837.920\n",
              "218    4795  3550.310\n",
              "219    3855  3916.180\n",
              "\n",
              "[220 rows x 2 columns]"
            ]
          },
          "metadata": {
            "tags": []
          },
          "execution_count": 49
        }
      ]
    },
    {
      "cell_type": "code",
      "metadata": {
        "id": "fqHn2VTz91s-"
      },
      "source": [
        ""
      ],
      "execution_count": null,
      "outputs": []
    },
    {
      "cell_type": "code",
      "metadata": {
        "id": "4XoHYssP8mMQ"
      },
      "source": [
        ""
      ],
      "execution_count": null,
      "outputs": []
    },
    {
      "cell_type": "code",
      "metadata": {
        "id": "XIs1HSMm8ckg"
      },
      "source": [
        ""
      ],
      "execution_count": null,
      "outputs": []
    },
    {
      "cell_type": "code",
      "metadata": {
        "id": "Md9dLQvj1PVK"
      },
      "source": [
        ""
      ],
      "execution_count": null,
      "outputs": []
    },
    {
      "cell_type": "code",
      "metadata": {
        "id": "GJgNM6kzP7oM"
      },
      "source": [
        ""
      ],
      "execution_count": null,
      "outputs": []
    },
    {
      "cell_type": "code",
      "metadata": {
        "id": "7VJYuV2gPwRG"
      },
      "source": [
        ""
      ],
      "execution_count": null,
      "outputs": []
    },
    {
      "cell_type": "code",
      "metadata": {
        "id": "Ud1gbOpkPWUu"
      },
      "source": [
        ""
      ],
      "execution_count": null,
      "outputs": []
    },
    {
      "cell_type": "code",
      "metadata": {
        "id": "sVeMZohTO7rx"
      },
      "source": [
        ""
      ],
      "execution_count": null,
      "outputs": []
    },
    {
      "cell_type": "code",
      "metadata": {
        "id": "xJcHZDBiOtZV"
      },
      "source": [
        ""
      ],
      "execution_count": null,
      "outputs": []
    }
  ]
}